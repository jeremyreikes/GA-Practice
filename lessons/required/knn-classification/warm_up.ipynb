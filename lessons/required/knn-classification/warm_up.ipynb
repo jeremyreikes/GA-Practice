{
 "cells": [
  {
   "cell_type": "code",
   "execution_count": 1,
   "metadata": {},
   "outputs": [],
   "source": [
    "import pandas as pd"
   ]
  },
  {
   "cell_type": "code",
   "execution_count": 3,
   "metadata": {},
   "outputs": [],
   "source": [
    "df = pd.read_csv('train.csv')"
   ]
  },
  {
   "cell_type": "code",
   "execution_count": 5,
   "metadata": {},
   "outputs": [
    {
     "name": "stdout",
     "output_type": "stream",
     "text": [
      "<class 'pandas.core.frame.DataFrame'>\n",
      "RangeIndex: 30471 entries, 0 to 30470\n",
      "Data columns (total 292 columns):\n",
      "id                                       int64\n",
      "timestamp                                object\n",
      "full_sq                                  int64\n",
      "life_sq                                  float64\n",
      "floor                                    float64\n",
      "max_floor                                float64\n",
      "material                                 float64\n",
      "build_year                               float64\n",
      "num_room                                 float64\n",
      "kitch_sq                                 float64\n",
      "state                                    float64\n",
      "product_type                             object\n",
      "sub_area                                 object\n",
      "area_m                                   float64\n",
      "raion_popul                              int64\n",
      "green_zone_part                          float64\n",
      "indust_part                              float64\n",
      "children_preschool                       int64\n",
      "preschool_quota                          float64\n",
      "preschool_education_centers_raion        int64\n",
      "children_school                          int64\n",
      "school_quota                             float64\n",
      "school_education_centers_raion           int64\n",
      "school_education_centers_top_20_raion    int64\n",
      "hospital_beds_raion                      float64\n",
      "healthcare_centers_raion                 int64\n",
      "university_top_20_raion                  int64\n",
      "sport_objects_raion                      int64\n",
      "additional_education_raion               int64\n",
      "culture_objects_top_25                   object\n",
      "culture_objects_top_25_raion             int64\n",
      "shopping_centers_raion                   int64\n",
      "office_raion                             int64\n",
      "thermal_power_plant_raion                object\n",
      "incineration_raion                       object\n",
      "oil_chemistry_raion                      object\n",
      "radiation_raion                          object\n",
      "railroad_terminal_raion                  object\n",
      "big_market_raion                         object\n",
      "nuclear_reactor_raion                    object\n",
      "detention_facility_raion                 object\n",
      "full_all                                 int64\n",
      "male_f                                   int64\n",
      "female_f                                 int64\n",
      "young_all                                int64\n",
      "young_male                               int64\n",
      "young_female                             int64\n",
      "work_all                                 int64\n",
      "work_male                                int64\n",
      "work_female                              int64\n",
      "ekder_all                                int64\n",
      "ekder_male                               int64\n",
      "ekder_female                             int64\n",
      "0_6_all                                  int64\n",
      "0_6_male                                 int64\n",
      "0_6_female                               int64\n",
      "7_14_all                                 int64\n",
      "7_14_male                                int64\n",
      "7_14_female                              int64\n",
      "0_17_all                                 int64\n",
      "0_17_male                                int64\n",
      "0_17_female                              int64\n",
      "16_29_all                                int64\n",
      "16_29_male                               int64\n",
      "16_29_female                             int64\n",
      "0_13_all                                 int64\n",
      "0_13_male                                int64\n",
      "0_13_female                              int64\n",
      "raion_build_count_with_material_info     float64\n",
      "build_count_block                        float64\n",
      "build_count_wood                         float64\n",
      "build_count_frame                        float64\n",
      "build_count_brick                        float64\n",
      "build_count_monolith                     float64\n",
      "build_count_panel                        float64\n",
      "build_count_foam                         float64\n",
      "build_count_slag                         float64\n",
      "build_count_mix                          float64\n",
      "raion_build_count_with_builddate_info    float64\n",
      "build_count_before_1920                  float64\n",
      "build_count_1921-1945                    float64\n",
      "build_count_1946-1970                    float64\n",
      "build_count_1971-1995                    float64\n",
      "build_count_after_1995                   float64\n",
      "ID_metro                                 int64\n",
      "metro_min_avto                           float64\n",
      "metro_km_avto                            float64\n",
      "metro_min_walk                           float64\n",
      "metro_km_walk                            float64\n",
      "kindergarten_km                          float64\n",
      "school_km                                float64\n",
      "park_km                                  float64\n",
      "green_zone_km                            float64\n",
      "industrial_km                            float64\n",
      "water_treatment_km                       float64\n",
      "cemetery_km                              float64\n",
      "incineration_km                          float64\n",
      "railroad_station_walk_km                 float64\n",
      "railroad_station_walk_min                float64\n",
      "ID_railroad_station_walk                 float64\n",
      "railroad_station_avto_km                 float64\n",
      "railroad_station_avto_min                float64\n",
      "ID_railroad_station_avto                 int64\n",
      "public_transport_station_km              float64\n",
      "public_transport_station_min_walk        float64\n",
      "water_km                                 float64\n",
      "water_1line                              object\n",
      "mkad_km                                  float64\n",
      "ttk_km                                   float64\n",
      "sadovoe_km                               float64\n",
      "bulvar_ring_km                           float64\n",
      "kremlin_km                               float64\n",
      "big_road1_km                             float64\n",
      "ID_big_road1                             int64\n",
      "big_road1_1line                          object\n",
      "big_road2_km                             float64\n",
      "ID_big_road2                             int64\n",
      "railroad_km                              float64\n",
      "railroad_1line                           object\n",
      "zd_vokzaly_avto_km                       float64\n",
      "ID_railroad_terminal                     int64\n",
      "bus_terminal_avto_km                     float64\n",
      "ID_bus_terminal                          int64\n",
      "oil_chemistry_km                         float64\n",
      "nuclear_reactor_km                       float64\n",
      "radiation_km                             float64\n",
      "power_transmission_line_km               float64\n",
      "thermal_power_plant_km                   float64\n",
      "ts_km                                    float64\n",
      "big_market_km                            float64\n",
      "market_shop_km                           float64\n",
      "fitness_km                               float64\n",
      "swim_pool_km                             float64\n",
      "ice_rink_km                              float64\n",
      "stadium_km                               float64\n",
      "basketball_km                            float64\n",
      "hospice_morgue_km                        float64\n",
      "detention_facility_km                    float64\n",
      "public_healthcare_km                     float64\n",
      "university_km                            float64\n",
      "workplaces_km                            float64\n",
      "shopping_centers_km                      float64\n",
      "office_km                                float64\n",
      "additional_education_km                  float64\n",
      "preschool_km                             float64\n",
      "big_church_km                            float64\n",
      "church_synagogue_km                      float64\n",
      "mosque_km                                float64\n",
      "theater_km                               float64\n",
      "museum_km                                float64\n",
      "exhibition_km                            float64\n",
      "catering_km                              float64\n",
      "ecology                                  object\n",
      "green_part_500                           float64\n",
      "prom_part_500                            float64\n",
      "office_count_500                         int64\n",
      "office_sqm_500                           int64\n",
      "trc_count_500                            int64\n",
      "trc_sqm_500                              int64\n",
      "cafe_count_500                           int64\n",
      "cafe_sum_500_min_price_avg               float64\n",
      "cafe_sum_500_max_price_avg               float64\n",
      "cafe_avg_price_500                       float64\n",
      "cafe_count_500_na_price                  int64\n",
      "cafe_count_500_price_500                 int64\n",
      "cafe_count_500_price_1000                int64\n",
      "cafe_count_500_price_1500                int64\n",
      "cafe_count_500_price_2500                int64\n",
      "cafe_count_500_price_4000                int64\n",
      "cafe_count_500_price_high                int64\n",
      "big_church_count_500                     int64\n",
      "church_count_500                         int64\n",
      "mosque_count_500                         int64\n",
      "leisure_count_500                        int64\n",
      "sport_count_500                          int64\n",
      "market_count_500                         int64\n",
      "green_part_1000                          float64\n",
      "prom_part_1000                           float64\n",
      "office_count_1000                        int64\n",
      "office_sqm_1000                          int64\n",
      "trc_count_1000                           int64\n",
      "trc_sqm_1000                             int64\n",
      "cafe_count_1000                          int64\n",
      "cafe_sum_1000_min_price_avg              float64\n",
      "cafe_sum_1000_max_price_avg              float64\n",
      "cafe_avg_price_1000                      float64\n",
      "cafe_count_1000_na_price                 int64\n",
      "cafe_count_1000_price_500                int64\n",
      "cafe_count_1000_price_1000               int64\n",
      "cafe_count_1000_price_1500               int64\n",
      "cafe_count_1000_price_2500               int64\n",
      "cafe_count_1000_price_4000               int64\n",
      "cafe_count_1000_price_high               int64\n",
      "big_church_count_1000                    int64\n",
      "church_count_1000                        int64\n",
      "mosque_count_1000                        int64\n",
      "leisure_count_1000                       int64\n",
      "sport_count_1000                         int64\n",
      "market_count_1000                        int64\n",
      "green_part_1500                          float64\n",
      "prom_part_1500                           float64\n",
      "office_count_1500                        int64\n",
      "office_sqm_1500                          int64\n",
      "trc_count_1500                           int64\n",
      "trc_sqm_1500                             int64\n",
      "cafe_count_1500                          int64\n",
      "cafe_sum_1500_min_price_avg              float64\n",
      "cafe_sum_1500_max_price_avg              float64\n",
      "cafe_avg_price_1500                      float64\n",
      "cafe_count_1500_na_price                 int64\n",
      "cafe_count_1500_price_500                int64\n",
      "cafe_count_1500_price_1000               int64\n",
      "cafe_count_1500_price_1500               int64\n",
      "cafe_count_1500_price_2500               int64\n",
      "cafe_count_1500_price_4000               int64\n",
      "cafe_count_1500_price_high               int64\n",
      "big_church_count_1500                    int64\n",
      "church_count_1500                        int64\n",
      "mosque_count_1500                        int64\n",
      "leisure_count_1500                       int64\n",
      "sport_count_1500                         int64\n",
      "market_count_1500                        int64\n",
      "green_part_2000                          float64\n",
      "prom_part_2000                           float64\n",
      "office_count_2000                        int64\n",
      "office_sqm_2000                          int64\n",
      "trc_count_2000                           int64\n",
      "trc_sqm_2000                             int64\n",
      "cafe_count_2000                          int64\n",
      "cafe_sum_2000_min_price_avg              float64\n",
      "cafe_sum_2000_max_price_avg              float64\n",
      "cafe_avg_price_2000                      float64\n",
      "cafe_count_2000_na_price                 int64\n",
      "cafe_count_2000_price_500                int64\n",
      "cafe_count_2000_price_1000               int64\n",
      "cafe_count_2000_price_1500               int64\n",
      "cafe_count_2000_price_2500               int64\n",
      "cafe_count_2000_price_4000               int64\n",
      "cafe_count_2000_price_high               int64\n",
      "big_church_count_2000                    int64\n",
      "church_count_2000                        int64\n",
      "mosque_count_2000                        int64\n",
      "leisure_count_2000                       int64\n",
      "sport_count_2000                         int64\n",
      "market_count_2000                        int64\n",
      "green_part_3000                          float64\n",
      "prom_part_3000                           float64\n",
      "office_count_3000                        int64\n",
      "office_sqm_3000                          int64\n",
      "trc_count_3000                           int64\n",
      "trc_sqm_3000                             int64\n",
      "cafe_count_3000                          int64\n",
      "cafe_sum_3000_min_price_avg              float64\n",
      "cafe_sum_3000_max_price_avg              float64\n",
      "cafe_avg_price_3000                      float64\n",
      "cafe_count_3000_na_price                 int64\n",
      "cafe_count_3000_price_500                int64\n",
      "cafe_count_3000_price_1000               int64\n",
      "cafe_count_3000_price_1500               int64\n",
      "cafe_count_3000_price_2500               int64\n",
      "cafe_count_3000_price_4000               int64\n",
      "cafe_count_3000_price_high               int64\n",
      "big_church_count_3000                    int64\n",
      "church_count_3000                        int64\n",
      "mosque_count_3000                        int64\n",
      "leisure_count_3000                       int64\n",
      "sport_count_3000                         int64\n",
      "market_count_3000                        int64\n",
      "green_part_5000                          float64\n",
      "prom_part_5000                           float64\n",
      "office_count_5000                        int64\n",
      "office_sqm_5000                          int64\n",
      "trc_count_5000                           int64\n",
      "trc_sqm_5000                             int64\n",
      "cafe_count_5000                          int64\n",
      "cafe_sum_5000_min_price_avg              float64\n",
      "cafe_sum_5000_max_price_avg              float64\n",
      "cafe_avg_price_5000                      float64\n",
      "cafe_count_5000_na_price                 int64\n",
      "cafe_count_5000_price_500                int64\n",
      "cafe_count_5000_price_1000               int64\n",
      "cafe_count_5000_price_1500               int64\n",
      "cafe_count_5000_price_2500               int64\n",
      "cafe_count_5000_price_4000               int64\n",
      "cafe_count_5000_price_high               int64\n",
      "big_church_count_5000                    int64\n",
      "church_count_5000                        int64\n",
      "mosque_count_5000                        int64\n",
      "leisure_count_5000                       int64\n",
      "sport_count_5000                         int64\n",
      "market_count_5000                        int64\n",
      "price_doc                                int64\n",
      "dtypes: float64(119), int64(157), object(16)\n",
      "memory usage: 67.9+ MB\n"
     ]
    }
   ],
   "source": [
    "df.info(verbose = True)"
   ]
  },
  {
   "cell_type": "code",
   "execution_count": 6,
   "metadata": {},
   "outputs": [],
   "source": [
    "ames = pd.read_csv('data/Ames_Housing_Sales.csv')"
   ]
  },
  {
   "cell_type": "code",
   "execution_count": 7,
   "metadata": {},
   "outputs": [
    {
     "name": "stdout",
     "output_type": "stream",
     "text": [
      "<class 'pandas.core.frame.DataFrame'>\n",
      "RangeIndex: 1379 entries, 0 to 1378\n",
      "Data columns (total 80 columns):\n",
      "1stFlrSF         1379 non-null float64\n",
      "2ndFlrSF         1379 non-null float64\n",
      "3SsnPorch        1379 non-null float64\n",
      "Alley            1379 non-null object\n",
      "BedroomAbvGr     1379 non-null int64\n",
      "BldgType         1379 non-null object\n",
      "BsmtCond         1379 non-null object\n",
      "BsmtExposure     1379 non-null object\n",
      "BsmtFinSF1       1379 non-null float64\n",
      "BsmtFinSF2       1379 non-null float64\n",
      "BsmtFinType1     1379 non-null object\n",
      "BsmtFinType2     1379 non-null object\n",
      "BsmtFullBath     1379 non-null int64\n",
      "BsmtHalfBath     1379 non-null int64\n",
      "BsmtQual         1379 non-null object\n",
      "BsmtUnfSF        1379 non-null float64\n",
      "CentralAir       1379 non-null object\n",
      "Condition1       1379 non-null object\n",
      "Condition2       1379 non-null object\n",
      "Electrical       1379 non-null object\n",
      "EnclosedPorch    1379 non-null float64\n",
      "ExterCond        1379 non-null object\n",
      "ExterQual        1379 non-null object\n",
      "Exterior1st      1379 non-null object\n",
      "Exterior2nd      1379 non-null object\n",
      "Fence            1379 non-null object\n",
      "FireplaceQu      1379 non-null object\n",
      "Fireplaces       1379 non-null int64\n",
      "Foundation       1379 non-null object\n",
      "FullBath         1379 non-null int64\n",
      "Functional       1379 non-null object\n",
      "GarageArea       1379 non-null float64\n",
      "GarageCars       1379 non-null int64\n",
      "GarageCond       1379 non-null object\n",
      "GarageFinish     1379 non-null object\n",
      "GarageQual       1379 non-null object\n",
      "GarageType       1379 non-null object\n",
      "GarageYrBlt      1379 non-null float64\n",
      "GrLivArea        1379 non-null float64\n",
      "HalfBath         1379 non-null int64\n",
      "Heating          1379 non-null object\n",
      "HeatingQC        1379 non-null object\n",
      "HouseStyle       1379 non-null object\n",
      "KitchenAbvGr     1379 non-null int64\n",
      "KitchenQual      1379 non-null object\n",
      "LandContour      1379 non-null object\n",
      "LandSlope        1379 non-null object\n",
      "LotArea          1379 non-null float64\n",
      "LotConfig        1379 non-null object\n",
      "LotFrontage      1379 non-null float64\n",
      "LotShape         1379 non-null object\n",
      "LowQualFinSF     1379 non-null float64\n",
      "MSSubClass       1379 non-null int64\n",
      "MSZoning         1379 non-null object\n",
      "MasVnrArea       1379 non-null float64\n",
      "MasVnrType       1379 non-null object\n",
      "MiscFeature      1379 non-null object\n",
      "MiscVal          1379 non-null float64\n",
      "MoSold           1379 non-null int64\n",
      "Neighborhood     1379 non-null object\n",
      "OpenPorchSF      1379 non-null float64\n",
      "OverallCond      1379 non-null int64\n",
      "OverallQual      1379 non-null int64\n",
      "PavedDrive       1379 non-null object\n",
      "PoolArea         1379 non-null float64\n",
      "PoolQC           1379 non-null object\n",
      "RoofMatl         1379 non-null object\n",
      "RoofStyle        1379 non-null object\n",
      "SaleCondition    1379 non-null object\n",
      "SaleType         1379 non-null object\n",
      "ScreenPorch      1379 non-null float64\n",
      "Street           1379 non-null object\n",
      "TotRmsAbvGrd     1379 non-null int64\n",
      "TotalBsmtSF      1379 non-null float64\n",
      "Utilities        1379 non-null object\n",
      "WoodDeckSF       1379 non-null float64\n",
      "YearBuilt        1379 non-null int64\n",
      "YearRemodAdd     1379 non-null int64\n",
      "YrSold           1379 non-null int64\n",
      "SalePrice        1379 non-null float64\n",
      "dtypes: float64(21), int64(16), object(43)\n",
      "memory usage: 862.0+ KB\n"
     ]
    }
   ],
   "source": [
    "ames.info()"
   ]
  },
  {
   "cell_type": "code",
   "execution_count": 9,
   "metadata": {},
   "outputs": [],
   "source": [
    "X = ames[['GrLivArea']]"
   ]
  },
  {
   "cell_type": "code",
   "execution_count": 10,
   "metadata": {},
   "outputs": [],
   "source": [
    "y = ames[['SalePrice']]"
   ]
  },
  {
   "cell_type": "code",
   "execution_count": 11,
   "metadata": {},
   "outputs": [],
   "source": [
    "from sklearn.linear_model import LinearRegression"
   ]
  },
  {
   "cell_type": "code",
   "execution_count": 12,
   "metadata": {},
   "outputs": [],
   "source": [
    "lm = LinearRegression()\n",
    "lm.fit(X, y)\n",
    "preds = lm.predict(X)"
   ]
  },
  {
   "cell_type": "code",
   "execution_count": 13,
   "metadata": {},
   "outputs": [],
   "source": [
    "X = ames[['GrLivArea', '1stFlrSF']]"
   ]
  },
  {
   "cell_type": "code",
   "execution_count": 14,
   "metadata": {},
   "outputs": [
    {
     "data": {
      "text/plain": [
       "LinearRegression(copy_X=True, fit_intercept=True, n_jobs=None,\n",
       "         normalize=False)"
      ]
     },
     "execution_count": 14,
     "metadata": {},
     "output_type": "execute_result"
    }
   ],
   "source": [
    "lm.fit(X, y)"
   ]
  },
  {
   "cell_type": "code",
   "execution_count": 15,
   "metadata": {},
   "outputs": [],
   "source": [
    "corr = ames.corr()"
   ]
  },
  {
   "cell_type": "code",
   "execution_count": 16,
   "metadata": {},
   "outputs": [
    {
     "data": {
      "text/plain": [
       "SalePrice       1.000000\n",
       "OverallQual     0.787228\n",
       "GrLivArea       0.708172\n",
       "GarageCars      0.637095\n",
       "GarageArea      0.608405\n",
       "TotalBsmtSF     0.603583\n",
       "1stFlrSF        0.594935\n",
       "FullBath        0.556550\n",
       "TotRmsAbvGrd    0.538309\n",
       "YearBuilt       0.507584\n",
       "Name: SalePrice, dtype: float64"
      ]
     },
     "execution_count": 16,
     "metadata": {},
     "output_type": "execute_result"
    }
   ],
   "source": [
    "corr['SalePrice'].nlargest(10)"
   ]
  },
  {
   "cell_type": "code",
   "execution_count": 17,
   "metadata": {},
   "outputs": [],
   "source": [
    "import seaborn as sns"
   ]
  },
  {
   "cell_type": "code",
   "execution_count": 19,
   "metadata": {},
   "outputs": [
    {
     "data": {
      "text/plain": [
       "<matplotlib.axes._subplots.AxesSubplot at 0x1a2a9101d0>"
      ]
     },
     "execution_count": 19,
     "metadata": {},
     "output_type": "execute_result"
    },
    {
     "data": {
      "image/png": "[encoded data removed]",
      "text/plain": [
       "<Figure size 432x288 with 2 Axes>"
      ]
     },
     "metadata": {
      "needs_background": "light"
     },
     "output_type": "display_data"
    }
   ],
   "source": [
    "sns.heatmap(corr)"
   ]
  },
  {
   "cell_type": "code",
   "execution_count": 20,
   "metadata": {},
   "outputs": [],
   "source": [
    "from sklearn.preprocessing import StandardScaler\n",
    "from sklearn.linear_model import Ridge"
   ]
  },
  {
   "cell_type": "code",
   "execution_count": 21,
   "metadata": {},
   "outputs": [],
   "source": [
    "ss = StandardScaler()"
   ]
  },
  {
   "cell_type": "code",
   "execution_count": 22,
   "metadata": {},
   "outputs": [],
   "source": [
    "scaled = ss.fit_transform(X)"
   ]
  },
  {
   "cell_type": "code",
   "execution_count": 23,
   "metadata": {},
   "outputs": [
    {
     "data": {
      "text/plain": [
       "array([[ 0.33781599, -0.83006172],\n",
       "       [-0.52546189,  0.21937391],\n",
       "       [ 0.48426492, -0.66463344],\n",
       "       ...,\n",
       "       [ 1.55180052,  0.02809746],\n",
       "       [-0.88002245, -0.25623238],\n",
       "       [-0.53702365,  0.20386501]])"
      ]
     },
     "execution_count": 23,
     "metadata": {},
     "output_type": "execute_result"
    }
   ],
   "source": [
    "scaled"
   ]
  },
  {
   "cell_type": "code",
   "execution_count": 24,
   "metadata": {},
   "outputs": [],
   "source": [
    "ridge = Ridge(alpha=0.1)"
   ]
  },
  {
   "cell_type": "code",
   "execution_count": 25,
   "metadata": {},
   "outputs": [
    {
     "data": {
      "text/plain": [
       "Ridge(alpha=0.1, copy_X=True, fit_intercept=True, max_iter=None,\n",
       "   normalize=False, random_state=None, solver='auto', tol=0.001)"
      ]
     },
     "execution_count": 25,
     "metadata": {},
     "output_type": "execute_result"
    }
   ],
   "source": [
    "ridge.fit(scaled, y)"
   ]
  },
  {
   "cell_type": "code",
   "execution_count": 27,
   "metadata": {},
   "outputs": [
    {
     "data": {
      "text/html": [
       "<div>\n",
       "<style scoped>\n",
       "    .dataframe tbody tr th:only-of-type {\n",
       "        vertical-align: middle;\n",
       "    }\n",
       "\n",
       "    .dataframe tbody tr th {\n",
       "        vertical-align: top;\n",
       "    }\n",
       "\n",
       "    .dataframe thead th {\n",
       "        text-align: right;\n",
       "    }\n",
       "</style>\n",
       "<table border=\"1\" class=\"dataframe\">\n",
       "  <thead>\n",
       "    <tr style=\"text-align: right;\">\n",
       "      <th></th>\n",
       "      <th>GrLivArea</th>\n",
       "      <th>1stFlrSF</th>\n",
       "    </tr>\n",
       "  </thead>\n",
       "  <tbody>\n",
       "    <tr>\n",
       "      <th>0</th>\n",
       "      <td>1710.0</td>\n",
       "      <td>856.0</td>\n",
       "    </tr>\n",
       "    <tr>\n",
       "      <th>1</th>\n",
       "      <td>1262.0</td>\n",
       "      <td>1262.0</td>\n",
       "    </tr>\n",
       "    <tr>\n",
       "      <th>2</th>\n",
       "      <td>1786.0</td>\n",
       "      <td>920.0</td>\n",
       "    </tr>\n",
       "    <tr>\n",
       "      <th>3</th>\n",
       "      <td>1717.0</td>\n",
       "      <td>961.0</td>\n",
       "    </tr>\n",
       "    <tr>\n",
       "      <th>4</th>\n",
       "      <td>2198.0</td>\n",
       "      <td>1145.0</td>\n",
       "    </tr>\n",
       "  </tbody>\n",
       "</table>\n",
       "</div>"
      ],
      "text/plain": [
       "   GrLivArea  1stFlrSF\n",
       "0     1710.0     856.0\n",
       "1     1262.0    1262.0\n",
       "2     1786.0     920.0\n",
       "3     1717.0     961.0\n",
       "4     2198.0    1145.0"
      ]
     },
     "execution_count": 27,
     "metadata": {},
     "output_type": "execute_result"
    }
   ],
   "source": [
    "X.head()"
   ]
  },
  {
   "cell_type": "code",
   "execution_count": 28,
   "metadata": {},
   "outputs": [],
   "source": [
    "from sklearn.pipeline import Pipeline"
   ]
  },
  {
   "cell_type": "code",
   "execution_count": 29,
   "metadata": {},
   "outputs": [],
   "source": [
    "from sklearn.preprocessing import PolynomialFeatures"
   ]
  },
  {
   "cell_type": "code",
   "execution_count": 30,
   "metadata": {},
   "outputs": [],
   "source": [
    "pipe = Pipeline([('scaler', StandardScaler()), ('polys', PolynomialFeatures(degree=2)), ('ridge', Ridge(alpha = 0.1))])"
   ]
  },
  {
   "cell_type": "code",
   "execution_count": 31,
   "metadata": {},
   "outputs": [
    {
     "data": {
      "text/plain": [
       "Pipeline(memory=None,\n",
       "     steps=[('scaler', StandardScaler(copy=True, with_mean=True, with_std=True)), ('polys', PolynomialFeatures(degree=2, include_bias=True, interaction_only=False)), ('ridge', Ridge(alpha=0.1, copy_X=True, fit_intercept=True, max_iter=None,\n",
       "   normalize=False, random_state=None, solver='auto', tol=0.001))])"
      ]
     },
     "execution_count": 31,
     "metadata": {},
     "output_type": "execute_result"
    }
   ],
   "source": [
    "pipe.fit(X, y)"
   ]
  },
  {
   "cell_type": "code",
   "execution_count": 32,
   "metadata": {},
   "outputs": [
    {
     "data": {
      "text/plain": [
       "{'scaler': StandardScaler(copy=True, with_mean=True, with_std=True),\n",
       " 'polys': PolynomialFeatures(degree=2, include_bias=True, interaction_only=False),\n",
       " 'ridge': Ridge(alpha=0.1, copy_X=True, fit_intercept=True, max_iter=None,\n",
       "    normalize=False, random_state=None, solver='auto', tol=0.001)}"
      ]
     },
     "execution_count": 32,
     "metadata": {},
     "output_type": "execute_result"
    }
   ],
   "source": [
    "pipe.named_steps"
   ]
  },
  {
   "cell_type": "code",
   "execution_count": 33,
   "metadata": {},
   "outputs": [
    {
     "data": {
      "text/plain": [
       "array([[     0.        ,  31426.80336979,  31808.24910067,\n",
       "         19869.79230734, -40009.80238161,  15485.74083597]])"
      ]
     },
     "execution_count": 33,
     "metadata": {},
     "output_type": "execute_result"
    }
   ],
   "source": [
    "pipe.named_steps['ridge'].coef_"
   ]
  },
  {
   "cell_type": "code",
   "execution_count": 39,
   "metadata": {},
   "outputs": [],
   "source": [
    "x = ames[['GrLivArea']]"
   ]
  },
  {
   "cell_type": "code",
   "execution_count": 40,
   "metadata": {},
   "outputs": [
    {
     "data": {
      "text/plain": [
       "LinearRegression(copy_X=True, fit_intercept=True, n_jobs=None,\n",
       "         normalize=False)"
      ]
     },
     "execution_count": 40,
     "metadata": {},
     "output_type": "execute_result"
    }
   ],
   "source": [
    "lm.fit(x, y)"
   ]
  },
  {
   "cell_type": "code",
   "execution_count": 41,
   "metadata": {},
   "outputs": [
    {
     "data": {
      "text/plain": [
       "(1379, 1)"
      ]
     },
     "execution_count": 41,
     "metadata": {},
     "output_type": "execute_result"
    }
   ],
   "source": [
    "x.shape"
   ]
  },
  {
   "cell_type": "code",
   "execution_count": 42,
   "metadata": {},
   "outputs": [],
   "source": [
    "from sklearn.neighbors import KNeighborsRegressor"
   ]
  },
  {
   "cell_type": "code",
   "execution_count": 43,
   "metadata": {},
   "outputs": [],
   "source": [
    "knn = KNeighborsRegressor(n_neighbors=3)"
   ]
  },
  {
   "cell_type": "code",
   "execution_count": 44,
   "metadata": {},
   "outputs": [
    {
     "data": {
      "text/plain": [
       "KNeighborsRegressor(algorithm='auto', leaf_size=30, metric='minkowski',\n",
       "          metric_params=None, n_jobs=None, n_neighbors=3, p=2,\n",
       "          weights='uniform')"
      ]
     },
     "execution_count": 44,
     "metadata": {},
     "output_type": "execute_result"
    }
   ],
   "source": [
    "knn.fit(x, y)"
   ]
  },
  {
   "cell_type": "code",
   "execution_count": 45,
   "metadata": {},
   "outputs": [],
   "source": [
    "pred_knn = knn.predict(x)"
   ]
  },
  {
   "cell_type": "code",
   "execution_count": 46,
   "metadata": {},
   "outputs": [],
   "source": [
    "from sklearn.metrics import mean_squared_error"
   ]
  },
  {
   "cell_type": "code",
   "execution_count": 47,
   "metadata": {},
   "outputs": [],
   "source": [
    "import numpy as np\n",
    "knn_rmse = np.sqrt(mean_squared_error(y, pred_knn))"
   ]
  },
  {
   "cell_type": "code",
   "execution_count": 48,
   "metadata": {},
   "outputs": [],
   "source": [
    "pred_lm = lm.predict(x)\n",
    "lm_rmse = np.sqrt(mean_squared_error(y, pred_lm))"
   ]
  },
  {
   "cell_type": "code",
   "execution_count": 51,
   "metadata": {},
   "outputs": [
    {
     "name": "stdout",
     "output_type": "stream",
     "text": [
      "The KNN had 46012.82 RMSE and the Linear Model has 55773.78\n"
     ]
    }
   ],
   "source": [
    "print('The KNN had {:.2f} RMSE and the Linear Model has {:.2f}'.format(knn_rmse, lm_rmse))"
   ]
  },
  {
   "cell_type": "code",
   "execution_count": 52,
   "metadata": {},
   "outputs": [],
   "source": [
    "%matplotlib inline\n",
    "import matplotlib.pyplot as plt"
   ]
  },
  {
   "cell_type": "code",
   "execution_count": 59,
   "metadata": {},
   "outputs": [
    {
     "data": {
      "text/plain": [
       "<matplotlib.legend.Legend at 0x1a2b997cc0>"
      ]
     },
     "execution_count": 59,
     "metadata": {},
     "output_type": "execute_result"
    },
    {
     "data": {
      "image/png": "[encoded data removed]",
      "text/plain": [
       "<Figure size 1008x504 with 1 Axes>"
      ]
     },
     "metadata": {
      "needs_background": "light"
     },
     "output_type": "display_data"
    }
   ],
   "source": [
    "plt.figure(figsize = (14, 7))\n",
    "x_sorted = x.sort_values(by = 'GrLivArea')\n",
    "plt.scatter(x, y)\n",
    "plt.plot(x_sorted, pred_knn, color = 'orange', label = 'KNN')\n",
    "plt.plot(x, pred_lm, color = 'red', label = 'LM')\n",
    "plt.legend(frameon = 'False')"
   ]
  },
  {
   "cell_type": "code",
   "execution_count": 57,
   "metadata": {},
   "outputs": [
    {
     "data": {
      "text/html": [
       "<div>\n",
       "<style scoped>\n",
       "    .dataframe tbody tr th:only-of-type {\n",
       "        vertical-align: middle;\n",
       "    }\n",
       "\n",
       "    .dataframe tbody tr th {\n",
       "        vertical-align: top;\n",
       "    }\n",
       "\n",
       "    .dataframe thead th {\n",
       "        text-align: right;\n",
       "    }\n",
       "</style>\n",
       "<table border=\"1\" class=\"dataframe\">\n",
       "  <thead>\n",
       "    <tr style=\"text-align: right;\">\n",
       "      <th></th>\n",
       "      <th>GrLivArea</th>\n",
       "    </tr>\n",
       "  </thead>\n",
       "  <tbody>\n",
       "    <tr>\n",
       "      <th>0</th>\n",
       "      <td>1710.0</td>\n",
       "    </tr>\n",
       "    <tr>\n",
       "      <th>1</th>\n",
       "      <td>1262.0</td>\n",
       "    </tr>\n",
       "    <tr>\n",
       "      <th>2</th>\n",
       "      <td>1786.0</td>\n",
       "    </tr>\n",
       "    <tr>\n",
       "      <th>3</th>\n",
       "      <td>1717.0</td>\n",
       "    </tr>\n",
       "    <tr>\n",
       "      <th>4</th>\n",
       "      <td>2198.0</td>\n",
       "    </tr>\n",
       "    <tr>\n",
       "      <th>5</th>\n",
       "      <td>1362.0</td>\n",
       "    </tr>\n",
       "    <tr>\n",
       "      <th>6</th>\n",
       "      <td>1694.0</td>\n",
       "    </tr>\n",
       "    <tr>\n",
       "      <th>7</th>\n",
       "      <td>2090.0</td>\n",
       "    </tr>\n",
       "    <tr>\n",
       "      <th>8</th>\n",
       "      <td>1774.0</td>\n",
       "    </tr>\n",
       "    <tr>\n",
       "      <th>9</th>\n",
       "      <td>1077.0</td>\n",
       "    </tr>\n",
       "    <tr>\n",
       "      <th>10</th>\n",
       "      <td>1040.0</td>\n",
       "    </tr>\n",
       "    <tr>\n",
       "      <th>11</th>\n",
       "      <td>2324.0</td>\n",
       "    </tr>\n",
       "    <tr>\n",
       "      <th>12</th>\n",
       "      <td>912.0</td>\n",
       "    </tr>\n",
       "    <tr>\n",
       "      <th>13</th>\n",
       "      <td>1494.0</td>\n",
       "    </tr>\n",
       "    <tr>\n",
       "      <th>14</th>\n",
       "      <td>1253.0</td>\n",
       "    </tr>\n",
       "    <tr>\n",
       "      <th>15</th>\n",
       "      <td>854.0</td>\n",
       "    </tr>\n",
       "    <tr>\n",
       "      <th>16</th>\n",
       "      <td>1004.0</td>\n",
       "    </tr>\n",
       "    <tr>\n",
       "      <th>17</th>\n",
       "      <td>1296.0</td>\n",
       "    </tr>\n",
       "    <tr>\n",
       "      <th>18</th>\n",
       "      <td>1114.0</td>\n",
       "    </tr>\n",
       "    <tr>\n",
       "      <th>19</th>\n",
       "      <td>1339.0</td>\n",
       "    </tr>\n",
       "    <tr>\n",
       "      <th>20</th>\n",
       "      <td>2376.0</td>\n",
       "    </tr>\n",
       "    <tr>\n",
       "      <th>21</th>\n",
       "      <td>1108.0</td>\n",
       "    </tr>\n",
       "    <tr>\n",
       "      <th>22</th>\n",
       "      <td>1795.0</td>\n",
       "    </tr>\n",
       "    <tr>\n",
       "      <th>23</th>\n",
       "      <td>1060.0</td>\n",
       "    </tr>\n",
       "    <tr>\n",
       "      <th>24</th>\n",
       "      <td>1060.0</td>\n",
       "    </tr>\n",
       "    <tr>\n",
       "      <th>25</th>\n",
       "      <td>1600.0</td>\n",
       "    </tr>\n",
       "    <tr>\n",
       "      <th>26</th>\n",
       "      <td>900.0</td>\n",
       "    </tr>\n",
       "    <tr>\n",
       "      <th>27</th>\n",
       "      <td>1704.0</td>\n",
       "    </tr>\n",
       "    <tr>\n",
       "      <th>28</th>\n",
       "      <td>1600.0</td>\n",
       "    </tr>\n",
       "    <tr>\n",
       "      <th>29</th>\n",
       "      <td>520.0</td>\n",
       "    </tr>\n",
       "    <tr>\n",
       "      <th>...</th>\n",
       "      <td>...</td>\n",
       "    </tr>\n",
       "    <tr>\n",
       "      <th>1349</th>\n",
       "      <td>1558.0</td>\n",
       "    </tr>\n",
       "    <tr>\n",
       "      <th>1350</th>\n",
       "      <td>804.0</td>\n",
       "    </tr>\n",
       "    <tr>\n",
       "      <th>1351</th>\n",
       "      <td>1440.0</td>\n",
       "    </tr>\n",
       "    <tr>\n",
       "      <th>1352</th>\n",
       "      <td>1838.0</td>\n",
       "    </tr>\n",
       "    <tr>\n",
       "      <th>1353</th>\n",
       "      <td>958.0</td>\n",
       "    </tr>\n",
       "    <tr>\n",
       "      <th>1354</th>\n",
       "      <td>968.0</td>\n",
       "    </tr>\n",
       "    <tr>\n",
       "      <th>1355</th>\n",
       "      <td>1792.0</td>\n",
       "    </tr>\n",
       "    <tr>\n",
       "      <th>1356</th>\n",
       "      <td>1126.0</td>\n",
       "    </tr>\n",
       "    <tr>\n",
       "      <th>1357</th>\n",
       "      <td>1537.0</td>\n",
       "    </tr>\n",
       "    <tr>\n",
       "      <th>1358</th>\n",
       "      <td>864.0</td>\n",
       "    </tr>\n",
       "    <tr>\n",
       "      <th>1359</th>\n",
       "      <td>1932.0</td>\n",
       "    </tr>\n",
       "    <tr>\n",
       "      <th>1360</th>\n",
       "      <td>1236.0</td>\n",
       "    </tr>\n",
       "    <tr>\n",
       "      <th>1361</th>\n",
       "      <td>1725.0</td>\n",
       "    </tr>\n",
       "    <tr>\n",
       "      <th>1362</th>\n",
       "      <td>2555.0</td>\n",
       "    </tr>\n",
       "    <tr>\n",
       "      <th>1363</th>\n",
       "      <td>848.0</td>\n",
       "    </tr>\n",
       "    <tr>\n",
       "      <th>1364</th>\n",
       "      <td>2007.0</td>\n",
       "    </tr>\n",
       "    <tr>\n",
       "      <th>1365</th>\n",
       "      <td>952.0</td>\n",
       "    </tr>\n",
       "    <tr>\n",
       "      <th>1366</th>\n",
       "      <td>1422.0</td>\n",
       "    </tr>\n",
       "    <tr>\n",
       "      <th>1367</th>\n",
       "      <td>913.0</td>\n",
       "    </tr>\n",
       "    <tr>\n",
       "      <th>1368</th>\n",
       "      <td>1188.0</td>\n",
       "    </tr>\n",
       "    <tr>\n",
       "      <th>1369</th>\n",
       "      <td>2090.0</td>\n",
       "    </tr>\n",
       "    <tr>\n",
       "      <th>1370</th>\n",
       "      <td>1346.0</td>\n",
       "    </tr>\n",
       "    <tr>\n",
       "      <th>1371</th>\n",
       "      <td>1578.0</td>\n",
       "    </tr>\n",
       "    <tr>\n",
       "      <th>1372</th>\n",
       "      <td>1072.0</td>\n",
       "    </tr>\n",
       "    <tr>\n",
       "      <th>1373</th>\n",
       "      <td>1221.0</td>\n",
       "    </tr>\n",
       "    <tr>\n",
       "      <th>1374</th>\n",
       "      <td>1647.0</td>\n",
       "    </tr>\n",
       "    <tr>\n",
       "      <th>1375</th>\n",
       "      <td>2073.0</td>\n",
       "    </tr>\n",
       "    <tr>\n",
       "      <th>1376</th>\n",
       "      <td>2340.0</td>\n",
       "    </tr>\n",
       "    <tr>\n",
       "      <th>1377</th>\n",
       "      <td>1078.0</td>\n",
       "    </tr>\n",
       "    <tr>\n",
       "      <th>1378</th>\n",
       "      <td>1256.0</td>\n",
       "    </tr>\n",
       "  </tbody>\n",
       "</table>\n",
       "<p>1379 rows × 1 columns</p>\n",
       "</div>"
      ],
      "text/plain": [
       "      GrLivArea\n",
       "0        1710.0\n",
       "1        1262.0\n",
       "2        1786.0\n",
       "3        1717.0\n",
       "4        2198.0\n",
       "5        1362.0\n",
       "6        1694.0\n",
       "7        2090.0\n",
       "8        1774.0\n",
       "9        1077.0\n",
       "10       1040.0\n",
       "11       2324.0\n",
       "12        912.0\n",
       "13       1494.0\n",
       "14       1253.0\n",
       "15        854.0\n",
       "16       1004.0\n",
       "17       1296.0\n",
       "18       1114.0\n",
       "19       1339.0\n",
       "20       2376.0\n",
       "21       1108.0\n",
       "22       1795.0\n",
       "23       1060.0\n",
       "24       1060.0\n",
       "25       1600.0\n",
       "26        900.0\n",
       "27       1704.0\n",
       "28       1600.0\n",
       "29        520.0\n",
       "...         ...\n",
       "1349     1558.0\n",
       "1350      804.0\n",
       "1351     1440.0\n",
       "1352     1838.0\n",
       "1353      958.0\n",
       "1354      968.0\n",
       "1355     1792.0\n",
       "1356     1126.0\n",
       "1357     1537.0\n",
       "1358      864.0\n",
       "1359     1932.0\n",
       "1360     1236.0\n",
       "1361     1725.0\n",
       "1362     2555.0\n",
       "1363      848.0\n",
       "1364     2007.0\n",
       "1365      952.0\n",
       "1366     1422.0\n",
       "1367      913.0\n",
       "1368     1188.0\n",
       "1369     2090.0\n",
       "1370     1346.0\n",
       "1371     1578.0\n",
       "1372     1072.0\n",
       "1373     1221.0\n",
       "1374     1647.0\n",
       "1375     2073.0\n",
       "1376     2340.0\n",
       "1377     1078.0\n",
       "1378     1256.0\n",
       "\n",
       "[1379 rows x 1 columns]"
      ]
     },
     "execution_count": 57,
     "metadata": {},
     "output_type": "execute_result"
    }
   ],
   "source": [
    "x"
   ]
  },
  {
   "cell_type": "code",
   "execution_count": null,
   "metadata": {},
   "outputs": [],
   "source": []
  },
  {
   "cell_type": "code",
   "execution_count": null,
   "metadata": {},
   "outputs": [],
   "source": []
  },
  {
   "cell_type": "code",
   "execution_count": null,
   "metadata": {},
   "outputs": [],
   "source": []
  },
  {
   "cell_type": "code",
   "execution_count": null,
   "metadata": {},
   "outputs": [],
   "source": []
  },
  {
   "cell_type": "code",
   "execution_count": null,
   "metadata": {},
   "outputs": [],
   "source": []
  },
  {
   "cell_type": "code",
   "execution_count": null,
   "metadata": {},
   "outputs": [],
   "source": []
  },
  {
   "cell_type": "code",
   "execution_count": null,
   "metadata": {},
   "outputs": [],
   "source": []
  },
  {
   "cell_type": "code",
   "execution_count": null,
   "metadata": {},
   "outputs": [],
   "source": []
  }
 ],
 "metadata": {
  "kernelspec": {
   "display_name": "Python 3",
   "language": "python",
   "name": "python3"
  },
  "language_info": {
   "codemirror_mode": {
    "name": "ipython",
    "version": 3
   },
   "file_extension": ".py",
   "mimetype": "text/x-python",
   "name": "python",
   "nbconvert_exporter": "python",
   "pygments_lexer": "ipython3",
   "version": "3.6.6"
  }
 },
 "nbformat": 4,
 "nbformat_minor": 2
}
